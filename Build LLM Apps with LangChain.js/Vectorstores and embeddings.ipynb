{
 "cells": [
  {
   "cell_type": "markdown",
   "id": "94712c4b-5f3f-4d93-a9f4-d33620946c99",
   "metadata": {},
   "source": [
    "# Lesson 3: Vectorstores and embeddings"
   ]
  },
  {
   "cell_type": "markdown",
   "id": "00329cd1-0de7-4b69-b474-d9d315d93f6a",
   "metadata": {},
   "source": [
    "# Vectorstore ingestion"
   ]
  },
  {
   "cell_type": "code",
   "execution_count": 1,
   "id": "634988ed-0a57-49bc-9261-dc19fe66529b",
   "metadata": {
    "height": 64
   },
   "outputs": [
    {
     "data": {
      "text/plain": [
       "[Module: null prototype] { default: {} }"
      ]
     },
     "execution_count": 1,
     "metadata": {},
     "output_type": "execute_result"
    }
   ],
   "source": [
    "// Import environment variables from .env file for secure API access\n",
    "\n",
    "import \"dotenv/config\";"
   ]
  },
  {
   "cell_type": "code",
   "execution_count": 2,
   "id": "b997a07f-bfb0-407b-8959-fc0c467bd30f",
   "metadata": {
    "height": 149
   },
   "outputs": [
    {
     "data": {
      "text/plain": [
       "[\n",
       "   \u001b[33m-0.010393001\u001b[39m,   \u001b[33m0.0024292984\u001b[39m, \u001b[33m-0.00073567877\u001b[39m,  \u001b[33m-0.010911339\u001b[39m,    \u001b[33m-0.01144936\u001b[39m,\n",
       "    \u001b[33m0.022924965\u001b[39m,   \u001b[33m-0.014644682\u001b[39m,   \u001b[33m0.0017452893\u001b[39m,  \u001b[33m-0.017505383\u001b[39m,   \u001b[33m-0.019303162\u001b[39m,\n",
       "    \u001b[33m0.005166975\u001b[39m,    \u001b[33m0.034170926\u001b[39m,   \u001b[33m-0.012210463\u001b[39m,  \u001b[33m0.0019372054\u001b[39m,    \u001b[33m0.004691285\u001b[39m,\n",
       "    \u001b[33m0.013155282\u001b[39m,    \u001b[33m0.024591519\u001b[39m,   \u001b[33m0.0018027001\u001b[39m,   \u001b[33m0.004596147\u001b[39m,  \u001b[33m-0.0062331758\u001b[39m,\n",
       "  \u001b[33m-0.0051505715\u001b[39m, \u001b[33m-0.00069098035\u001b[39m,   \u001b[33m-0.008208108\u001b[39m,   \u001b[33m0.013975437\u001b[39m,   \u001b[33m-0.008962651\u001b[39m,\n",
       "  \u001b[33m-0.0040417225\u001b[39m,  \u001b[33m-0.0007192757\u001b[39m,   \u001b[33m-0.019657468\u001b[39m,  \u001b[33m0.0040154774\u001b[39m,  \u001b[33m-0.0017288862\u001b[39m,\n",
       "    \u001b[33m0.016048787\u001b[39m,   \u001b[33m-0.021862045\u001b[39m, \u001b[33m-0.00078570825\u001b[39m,  \u001b[33m-0.022295086\u001b[39m,   \u001b[33m0.0062561403\u001b[39m,\n",
       "    \u001b[33m0.007040208\u001b[39m,   \u001b[33m-0.011259085\u001b[39m,   \u001b[33m-0.013417731\u001b[39m,   \u001b[33m0.028869446\u001b[39m,   \u001b[33m-0.023567967\u001b[39m,\n",
       "   \u001b[33m0.0068892995\u001b[39m,     \u001b[33m0.01743977\u001b[39m,    \u001b[33m0.017308546\u001b[39m, \u001b[33m-0.0059444816\u001b[39m,  \u001b[33m-0.0038448854\u001b[39m,\n",
       "   \u001b[33m-0.014369111\u001b[39m,  \u001b[33m-0.0017502102\u001b[39m,  \u001b[33m-0.0059444816\u001b[39m,  \u001b[33m-0.007912853\u001b[39m,    \u001b[33m0.010458613\u001b[39m,\n",
       "    \u001b[33m0.032806188\u001b[39m, \u001b[33m-0.00083901826\u001b[39m,   \u001b[33m-0.023987886\u001b[39m, \u001b[33m-0.0033823182\u001b[39m, \u001b[33m-0.00079801056\u001b[39m,\n",
       "   \u001b[33m0.0025769263\u001b[39m,   \u001b[33m-0.022400066\u001b[39m,    \u001b[33m0.025168909\u001b[39m,   \u001b[33m0.019775571\u001b[39m,    \u001b[33m0.010773553\u001b[39m,\n",
       "   \u001b[33m-0.011705249\u001b[39m,   \u001b[33m-0.002529357\u001b[39m,   \u001b[33m0.0024883493\u001b[39m,  \u001b[33m-0.007328903\u001b[39m,  \u001b[33m-0.0013393126\u001b[39m,\n",
       "   \u001b[33m-0.020077387\u001b[39m,   \u001b[33m-0.016468707\u001b[39m,  \u001b[33m-0.0035397878\u001b[39m,   \u001b[33m0.011967698\u001b[39m,    \u001b[33m0.016823014\u001b[39m,\n",
       "    \u001b[33m0.028082099\u001b[39m,    \u001b[33m0.017636606\u001b[39m,   \u001b[33m-0.009179172\u001b[39m,   \u001b[33m-0.01484152\u001b[39m,  \u001b[33m-0.0006286486\u001b[39m,\n",
       "    \u001b[33m0.008221231\u001b[39m,   \u001b[33m-0.020654777\u001b[39m,    \u001b[33m0.014736541\u001b[39m,   \u001b[33m0.009612214\u001b[39m,  \u001b[33m-0.0131946495\u001b[39m,\n",
       "    \u001b[33m0.018213997\u001b[39m,   \u001b[33m-0.039551143\u001b[39m,  \u001b[33m0.00014926816\u001b[39m,     \u001b[33m0.0246965\u001b[39m,   \u001b[33m0.0064693806\u001b[39m,\n",
       "    \u001b[33m-0.00503575\u001b[39m,    \u001b[33m0.009198856\u001b[39m,    \u001b[33m0.030339163\u001b[39m,  \u001b[33m-0.025628194\u001b[39m,   \u001b[33m-0.010511103\u001b[39m,\n",
       "   \u001b[33m-0.002230821\u001b[39m,    \u001b[33m0.017361036\u001b[39m,   \u001b[33m0.0015246676\u001b[39m,   \u001b[33m0.023843538\u001b[39m,   \u001b[33m-0.020221734\u001b[39m,\n",
       "     \u001b[33m0.03133647\u001b[39m,    \u001b[33m-0.00991403\u001b[39m,    \u001b[33m0.032255046\u001b[39m, \u001b[33m-0.0015164661\u001b[39m,   \u001b[33m-0.026717361\u001b[39m,\n",
       "  ... 1436 more items\n",
       "]"
      ]
     },
     "execution_count": 2,
     "metadata": {},
     "output_type": "execute_result"
    }
   ],
   "source": [
    "// Import the OpenAIEmbeddings class for generating text embeddings\n",
    "import { OpenAIEmbeddings } from \"@langchain/openai\";\n",
    "\n",
    "// Create an instance of OpenAIEmbeddings\n",
    "const embeddings = new OpenAIEmbeddings();\n",
    "\n",
    "// Generate an embedding for the provided text and await the result\n",
    "await embeddings.embedQuery(\"This is some sample text\");"
   ]
  },
  {
   "cell_type": "code",
   "execution_count": 6,
   "id": "cd470c94-5bec-4efe-8395-416b0a408f8b",
   "metadata": {
    "height": 302
   },
   "outputs": [],
   "source": [
    "// Import the similarity function from the 'ml-distance' package.\n",
    "// This function is typically used to calculate similarity or distance between vectors.\n",
    "import { similarity } from \"ml-distance\";\n",
    "\n",
    "// Assuming an 'embeddings' object from previous context, which is an instance of some model capable of generating text embeddings.\n",
    "\n",
    "// Generate an embedding for a query about vectors in machine learning.\n",
    "// 'embedQuery' is an asynchronous function that returns the embedding of the input text.\n",
    "const vector1 = await embeddings.embedQuery(\n",
    "    \"What are vectors useful for in machine learning?\"\n",
    ");\n",
    "\n",
    "// Generate an embedding for a query about parrots, likely unrelated to the first query.\n",
    "// This demonstrates generating embeddings for vastly different pieces of text to compare their similarity later.\n",
    "const unrelatedVector = await embeddings.embedQuery(\n",
    "    \"A group of parrots is called a pandemonium.\"\n",
    ");"
   ]
  },
  {
   "cell_type": "code",
   "execution_count": 4,
   "id": "4476713f-5285-4d2f-9126-d30ee9825090",
   "metadata": {
    "height": 30
   },
   "outputs": [
    {
     "data": {
      "text/plain": [
       "\u001b[33m0.6961084034193643\u001b[39m"
      ]
     },
     "execution_count": 4,
     "metadata": {},
     "output_type": "execute_result"
    }
   ],
   "source": [
    "similarity.cosine(vector1, unrelatedVector);"
   ]
  },
  {
   "cell_type": "code",
   "execution_count": 7,
   "id": "17ff1478-261f-4f6d-ae0e-5d9d90df086d",
   "metadata": {
    "height": 166
   },
   "outputs": [
    {
     "data": {
      "text/plain": [
       "\u001b[33m0.8588060436065783\u001b[39m"
      ]
     },
     "execution_count": 7,
     "metadata": {},
     "output_type": "execute_result"
    }
   ],
   "source": [
    "// Generate an embedding for a query about vector representations in information.\n",
    "const similarVector = await embeddings.embedQuery(\n",
    "    \"Vectors are representations of information.\"\n",
    ");\n",
    "\n",
    "// Calculate the cosine similarity between 'vector1' and 'similarVector'.\n",
    "// This measures how similar the two text embeddings are, with values closer to 1 indicating high similarity.\n",
    "similarity.cosine(vector1, similarVector);\n"
   ]
  },
  {
   "cell_type": "code",
   "execution_count": 8,
   "id": "4f3366a1-4f80-4d4f-b49b-d7223b143d97",
   "metadata": {
    "height": 421
   },
   "outputs": [],
   "source": [
    "// Importing the PDF parsing utility.\n",
    "import * as parse from \"pdf-parse\";\n",
    "\n",
    "// Import PDFLoader for loading PDF files from the filesystem.\n",
    "import { PDFLoader } from \"langchain/document_loaders/fs/pdf\";\n",
    "\n",
    "// Import RecursiveCharacterTextSplitter for splitting text into smaller chunks.\n",
    "import { RecursiveCharacterTextSplitter } from \"langchain/text_splitter\";\n",
    "\n",
    "// Initialize PDFLoader with the path to the PDF document.\n",
    "const loader = new PDFLoader(\"./data/MachineLearning-Lecture01.pdf\");\n",
    "\n",
    "// Load the PDF document using the loader.\n",
    "const rawCS229Docs = await loader.load();\n",
    "\n",
    "// Initialize the text splitter with specified chunk size and overlap.\n",
    "const splitter = new RecursiveCharacterTextSplitter({\n",
    "  chunkSize: 128,  // Size of each text chunk.\n",
    "  chunkOverlap: 0, // No overlap between chunks.\n",
    "});\n",
    "\n",
    "// Split the loaded PDF document into chunks using the text splitter.\n",
    "const splitDocs = await splitter.splitDocuments(rawCS229Docs);\n"
   ]
  },
  {
   "cell_type": "code",
   "execution_count": 9,
   "id": "c2581cfc-aec6-4600-860c-1e100d42a382",
   "metadata": {
    "height": 98
   },
   "outputs": [],
   "source": [
    "// Import MemoryVectorStore for storing vectors in memory.\n",
    "import { MemoryVectorStore } from \"langchain/vectorstores/memory\";\n",
    "\n",
    "// Initialize a MemoryVectorStore with preloaded embeddings.\n",
    "const vectorstore = new MemoryVectorStore(embeddings);"
   ]
  },
  {
   "cell_type": "code",
   "execution_count": 10,
   "id": "10a566f9-4c8e-4199-a394-f52baaceac4d",
   "metadata": {
    "height": 64
   },
   "outputs": [],
   "source": [
    "// Add the split documents to the in-memory vector store.\n",
    "await vectorstore.addDocuments(splitDocs);\n"
   ]
  },
  {
   "cell_type": "code",
   "execution_count": 11,
   "id": "6da99c5b-08d1-4f6c-a4dd-aed004b6e023",
   "metadata": {
    "height": 234
   },
   "outputs": [
    {
     "data": {
      "text/plain": [
       "[\n",
       "  \u001b[32m\"piece of research in machine learning, okay?\"\u001b[39m,\n",
       "  \u001b[32m\"are using a learning algorithm, perhaps without even being aware of it.\"\u001b[39m,\n",
       "  \u001b[32m\"some of my own excitement about machine learning to you.\"\u001b[39m,\n",
       "  \u001b[32m\"of the class, and then we'll start to talk a bit about machine learning.\"\u001b[39m\n",
       "]"
      ]
     },
     "execution_count": 11,
     "metadata": {},
     "output_type": "execute_result"
    }
   ],
   "source": [
    "// Perform a similarity search in the vector store using a query.\n",
    "const retrievedDocs = await vectorstore.similaritySearch(\n",
    "    \"What is deep learning?\", // The search query.\n",
    "    4                          // Number of similar documents to retrieve.\n",
    ");\n",
    "\n",
    "// Extract the page content from each retrieved document.\n",
    "const pageContents = retrievedDocs.map(doc => doc.pageContent);\n",
    "\n",
    "// The variable 'pageContents' now holds the content of the pages\n",
    "// most similar to the search query.\n",
    "pageContents\n"
   ]
  },
  {
   "cell_type": "markdown",
   "id": "e64cc739-abaf-4e8a-a142-b4cd77abab40",
   "metadata": {},
   "source": [
    "# Retrievers"
   ]
  },
  {
   "cell_type": "code",
   "execution_count": 12,
   "id": "f5e32044-6e84-470a-91a7-262918d5a22b",
   "metadata": {
    "height": 47
   },
   "outputs": [],
   "source": [
    "// Convert the vector store into a retriever for document retrieval.\n",
    "const retriever = vectorstore.asRetriever();"
   ]
  },
  {
   "cell_type": "code",
   "execution_count": 13,
   "id": "0d678f1d-c37c-462f-96ba-d1c84ab35482",
   "metadata": {
    "height": 30
   },
   "outputs": [
    {
     "data": {
      "text/plain": [
       "[\n",
       "  Document {\n",
       "    pageContent: \u001b[32m\"piece of research in machine learning, okay?\"\u001b[39m,\n",
       "    metadata: {\n",
       "      source: \u001b[32m\"./data/MachineLearning-Lecture01.pdf\"\u001b[39m,\n",
       "      pdf: {\n",
       "        version: \u001b[32m\"1.10.100\"\u001b[39m,\n",
       "        info: {\n",
       "          PDFFormatVersion: \u001b[32m\"1.4\"\u001b[39m,\n",
       "          IsAcroFormPresent: \u001b[33mfalse\u001b[39m,\n",
       "          IsXFAPresent: \u001b[33mfalse\u001b[39m,\n",
       "          Title: \u001b[32m\"\"\u001b[39m,\n",
       "          Author: \u001b[32m\"\"\u001b[39m,\n",
       "          Creator: \u001b[32m\"PScript5.dll Version 5.2.2\"\u001b[39m,\n",
       "          Producer: \u001b[32m\"Acrobat Distiller 8.1.0 (Windows)\"\u001b[39m,\n",
       "          CreationDate: \u001b[32m\"D:20080711112523-07'00'\"\u001b[39m,\n",
       "          ModDate: \u001b[32m\"D:20080711112523-07'00'\"\u001b[39m\n",
       "        },\n",
       "        metadata: Metadata { _metadata: \u001b[36m[Object: null prototype]\u001b[39m },\n",
       "        totalPages: \u001b[33m22\u001b[39m\n",
       "      },\n",
       "      loc: { pageNumber: \u001b[33m8\u001b[39m, lines: { from: \u001b[33m2\u001b[39m, to: \u001b[33m2\u001b[39m } }\n",
       "    }\n",
       "  },\n",
       "  Document {\n",
       "    pageContent: \u001b[32m\"are using a learning algorithm, perhaps without even being aware of it.\"\u001b[39m,\n",
       "    metadata: {\n",
       "      source: \u001b[32m\"./data/MachineLearning-Lecture01.pdf\"\u001b[39m,\n",
       "      pdf: {\n",
       "        version: \u001b[32m\"1.10.100\"\u001b[39m,\n",
       "        info: {\n",
       "          PDFFormatVersion: \u001b[32m\"1.4\"\u001b[39m,\n",
       "          IsAcroFormPresent: \u001b[33mfalse\u001b[39m,\n",
       "          IsXFAPresent: \u001b[33mfalse\u001b[39m,\n",
       "          Title: \u001b[32m\"\"\u001b[39m,\n",
       "          Author: \u001b[32m\"\"\u001b[39m,\n",
       "          Creator: \u001b[32m\"PScript5.dll Version 5.2.2\"\u001b[39m,\n",
       "          Producer: \u001b[32m\"Acrobat Distiller 8.1.0 (Windows)\"\u001b[39m,\n",
       "          CreationDate: \u001b[32m\"D:20080711112523-07'00'\"\u001b[39m,\n",
       "          ModDate: \u001b[32m\"D:20080711112523-07'00'\"\u001b[39m\n",
       "        },\n",
       "        metadata: Metadata { _metadata: \u001b[36m[Object: null prototype]\u001b[39m },\n",
       "        totalPages: \u001b[33m22\u001b[39m\n",
       "      },\n",
       "      loc: { pageNumber: \u001b[33m3\u001b[39m, lines: { from: \u001b[33m39\u001b[39m, to: \u001b[33m39\u001b[39m } }\n",
       "    }\n",
       "  },\n",
       "  Document {\n",
       "    pageContent: \u001b[32m\"some of my own excitement about machine learning to you.\"\u001b[39m,\n",
       "    metadata: {\n",
       "      source: \u001b[32m\"./data/MachineLearning-Lecture01.pdf\"\u001b[39m,\n",
       "      pdf: {\n",
       "        version: \u001b[32m\"1.10.100\"\u001b[39m,\n",
       "        info: {\n",
       "          PDFFormatVersion: \u001b[32m\"1.4\"\u001b[39m,\n",
       "          IsAcroFormPresent: \u001b[33mfalse\u001b[39m,\n",
       "          IsXFAPresent: \u001b[33mfalse\u001b[39m,\n",
       "          Title: \u001b[32m\"\"\u001b[39m,\n",
       "          Author: \u001b[32m\"\"\u001b[39m,\n",
       "          Creator: \u001b[32m\"PScript5.dll Version 5.2.2\"\u001b[39m,\n",
       "          Producer: \u001b[32m\"Acrobat Distiller 8.1.0 (Windows)\"\u001b[39m,\n",
       "          CreationDate: \u001b[32m\"D:20080711112523-07'00'\"\u001b[39m,\n",
       "          ModDate: \u001b[32m\"D:20080711112523-07'00'\"\u001b[39m\n",
       "        },\n",
       "        metadata: Metadata { _metadata: \u001b[36m[Object: null prototype]\u001b[39m },\n",
       "        totalPages: \u001b[33m22\u001b[39m\n",
       "      },\n",
       "      loc: { pageNumber: \u001b[33m4\u001b[39m, lines: { from: \u001b[33m24\u001b[39m, to: \u001b[33m24\u001b[39m } }\n",
       "    }\n",
       "  },\n",
       "  Document {\n",
       "    pageContent: \u001b[32m\"of the class, and then we'll start to talk a bit about machine learning.\"\u001b[39m,\n",
       "    metadata: {\n",
       "      source: \u001b[32m\"./data/MachineLearning-Lecture01.pdf\"\u001b[39m,\n",
       "      pdf: {\n",
       "        version: \u001b[32m\"1.10.100\"\u001b[39m,\n",
       "        info: {\n",
       "          PDFFormatVersion: \u001b[32m\"1.4\"\u001b[39m,\n",
       "          IsAcroFormPresent: \u001b[33mfalse\u001b[39m,\n",
       "          IsXFAPresent: \u001b[33mfalse\u001b[39m,\n",
       "          Title: \u001b[32m\"\"\u001b[39m,\n",
       "          Author: \u001b[32m\"\"\u001b[39m,\n",
       "          Creator: \u001b[32m\"PScript5.dll Version 5.2.2\"\u001b[39m,\n",
       "          Producer: \u001b[32m\"Acrobat Distiller 8.1.0 (Windows)\"\u001b[39m,\n",
       "          CreationDate: \u001b[32m\"D:20080711112523-07'00'\"\u001b[39m,\n",
       "          ModDate: \u001b[32m\"D:20080711112523-07'00'\"\u001b[39m\n",
       "        },\n",
       "        metadata: Metadata { _metadata: \u001b[36m[Object: null prototype]\u001b[39m },\n",
       "        totalPages: \u001b[33m22\u001b[39m\n",
       "      },\n",
       "      loc: { pageNumber: \u001b[33m1\u001b[39m, lines: { from: \u001b[33m4\u001b[39m, to: \u001b[33m4\u001b[39m } }\n",
       "    }\n",
       "  }\n",
       "]"
      ]
     },
     "execution_count": 13,
     "metadata": {},
     "output_type": "execute_result"
    }
   ],
   "source": [
    "// same documents about deep learning\n",
    "await retriever.invoke(\"What is deep learning?\")"
   ]
  },
  {
   "cell_type": "code",
   "execution_count": null,
   "id": "18f6254b-5eaf-4867-999b-97d08f96cee9",
   "metadata": {
    "height": 30
   },
   "outputs": [],
   "source": []
  },
  {
   "cell_type": "code",
   "execution_count": null,
   "id": "c326a7cc-d9be-432c-be10-7846d2b8e5e9",
   "metadata": {
    "height": 30
   },
   "outputs": [],
   "source": []
  },
  {
   "cell_type": "code",
   "execution_count": null,
   "id": "8b25e21c-28d0-4329-852e-b96a14c38529",
   "metadata": {
    "height": 30
   },
   "outputs": [],
   "source": []
  },
  {
   "cell_type": "code",
   "execution_count": null,
   "id": "520b4a9b-89de-4652-b238-b7dddbd5a2c2",
   "metadata": {
    "height": 30
   },
   "outputs": [],
   "source": []
  },
  {
   "cell_type": "code",
   "execution_count": null,
   "id": "c325c8b5-9292-41f2-ad10-3ad0ad3df182",
   "metadata": {
    "height": 30
   },
   "outputs": [],
   "source": []
  },
  {
   "cell_type": "code",
   "execution_count": null,
   "id": "f5fe1d4c-9075-47d4-8451-b9bbc1115668",
   "metadata": {
    "height": 30
   },
   "outputs": [],
   "source": []
  },
  {
   "cell_type": "code",
   "execution_count": null,
   "id": "9cb3853d-826c-4e1f-a413-9f9f0faf62fe",
   "metadata": {
    "height": 30
   },
   "outputs": [],
   "source": []
  },
  {
   "cell_type": "code",
   "execution_count": null,
   "id": "3dd60bd2-fcc1-4f96-8763-969e30d52c13",
   "metadata": {
    "height": 30
   },
   "outputs": [],
   "source": []
  },
  {
   "cell_type": "code",
   "execution_count": null,
   "id": "c8f81c9f-88d7-470a-b597-c4137c9d35a4",
   "metadata": {
    "height": 30
   },
   "outputs": [],
   "source": []
  },
  {
   "cell_type": "code",
   "execution_count": null,
   "id": "c3b2e1ba-0419-4276-bdb4-3b044b3a7f46",
   "metadata": {
    "height": 30
   },
   "outputs": [],
   "source": []
  },
  {
   "cell_type": "code",
   "execution_count": null,
   "id": "24bc88b0-851c-4304-a085-ac0cba9f615f",
   "metadata": {
    "height": 30
   },
   "outputs": [],
   "source": []
  },
  {
   "cell_type": "code",
   "execution_count": null,
   "id": "f35a5209-e820-496b-9abc-60ade9f22d7c",
   "metadata": {
    "height": 30
   },
   "outputs": [],
   "source": []
  }
 ],
 "metadata": {
  "kernelspec": {
   "display_name": "Deno",
   "language": "typescript",
   "name": "deno"
  },
  "language_info": {
   "file_extension": ".ts",
   "mimetype": "text/x.typescript",
   "name": "typescript",
   "nb_converter": "script",
   "pygments_lexer": "typescript",
   "version": "5.3.3"
  }
 },
 "nbformat": 4,
 "nbformat_minor": 5
}
